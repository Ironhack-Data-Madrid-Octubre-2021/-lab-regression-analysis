{
 "cells": [
  {
   "cell_type": "markdown",
   "metadata": {},
   "source": [
    "# Lab: Regression Analysis"
   ]
  },
  {
   "cell_type": "markdown",
   "metadata": {},
   "source": [
    "### Before you start:\n",
    "\n",
    "* Read the README.md file\n",
    "* Comment as much as you can and use the resources (README.md file) \n",
    "\n",
    "Happy learning!"
   ]
  },
  {
   "cell_type": "code",
   "execution_count": 1,
   "metadata": {},
   "outputs": [],
   "source": [
    "#Visualización (el mantra)\n",
    "import seaborn as sns\n",
    "from matplotlib import pyplot as plt\n",
    "from matplotlib import cm\n",
    "%matplotlib inline\n",
    "%config Inlinebackend.figure_format = 'retina'\n",
    "sns.set_context(\"poster\")\n",
    "sns.set(rc={\"figure.figsize\": (15.,8.)})\n",
    "sns.set_style(\"whitegrid\")\n",
    "\n",
    "# Librerías de modelado\n",
    "import statsmodels.formula.api as smf\n",
    "from sklearn.linear_model import LinearRegression\n",
    "\n",
    "import pandas as pd\n",
    "import numpy as np"
   ]
  },
  {
   "cell_type": "markdown",
   "metadata": {},
   "source": [
    "## Challenge 1\n",
    "I work at a coding bootcamp, and I have developed a theory that the younger my students are, the more often they are late to class. In order to test my hypothesis, I have collected some data in the following table:\n",
    "\n",
    "| StudentID | Age | Tardies |\n",
    "|--------|-----|------------|\n",
    "| 1      | 17  | 10         |\n",
    "| 2      | 51  | 1          |\n",
    "| 3      | 27  | 5          |\n",
    "| 4      | 21  | 9         |\n",
    "| 5      | 36  |  4         |\n",
    "| 6      | 48  |  2         |\n",
    "| 7      | 19  |  9         |\n",
    "| 8      | 26  | 6          |\n",
    "| 9      | 54  |  0         |\n",
    "| 10     | 30  |  3         |"
   ]
  },
  {
   "cell_type": "markdown",
   "metadata": {},
   "source": [
    "Use this command to create a dataframe with the data provided in the table. \n",
    "~~~~\n",
    "student_data = pd.DataFrame({'X': [x_values], 'Y': [y_values]})\n",
    "~~~~"
   ]
  },
  {
   "cell_type": "code",
   "execution_count": 2,
   "metadata": {},
   "outputs": [],
   "source": [
    "student_data = pd.DataFrame({'X': [17,51,27,21,36,48,19,26,54,30], 'Y': [10,1,5,9,4,2,9,6,0,3]})"
   ]
  },
  {
   "cell_type": "code",
   "execution_count": 3,
   "metadata": {},
   "outputs": [
    {
     "data": {
      "text/html": [
       "<div>\n",
       "<style scoped>\n",
       "    .dataframe tbody tr th:only-of-type {\n",
       "        vertical-align: middle;\n",
       "    }\n",
       "\n",
       "    .dataframe tbody tr th {\n",
       "        vertical-align: top;\n",
       "    }\n",
       "\n",
       "    .dataframe thead th {\n",
       "        text-align: right;\n",
       "    }\n",
       "</style>\n",
       "<table border=\"1\" class=\"dataframe\">\n",
       "  <thead>\n",
       "    <tr style=\"text-align: right;\">\n",
       "      <th></th>\n",
       "      <th>X</th>\n",
       "      <th>Y</th>\n",
       "    </tr>\n",
       "  </thead>\n",
       "  <tbody>\n",
       "    <tr>\n",
       "      <th>0</th>\n",
       "      <td>17</td>\n",
       "      <td>10</td>\n",
       "    </tr>\n",
       "    <tr>\n",
       "      <th>1</th>\n",
       "      <td>51</td>\n",
       "      <td>1</td>\n",
       "    </tr>\n",
       "    <tr>\n",
       "      <th>2</th>\n",
       "      <td>27</td>\n",
       "      <td>5</td>\n",
       "    </tr>\n",
       "    <tr>\n",
       "      <th>3</th>\n",
       "      <td>21</td>\n",
       "      <td>9</td>\n",
       "    </tr>\n",
       "    <tr>\n",
       "      <th>4</th>\n",
       "      <td>36</td>\n",
       "      <td>4</td>\n",
       "    </tr>\n",
       "  </tbody>\n",
       "</table>\n",
       "</div>"
      ],
      "text/plain": [
       "    X   Y\n",
       "0  17  10\n",
       "1  51   1\n",
       "2  27   5\n",
       "3  21   9\n",
       "4  36   4"
      ]
     },
     "execution_count": 3,
     "metadata": {},
     "output_type": "execute_result"
    }
   ],
   "source": [
    "student_data.head()"
   ]
  },
  {
   "cell_type": "markdown",
   "metadata": {},
   "source": [
    "Draw a dispersion diagram (scatter plot) for the data."
   ]
  },
  {
   "cell_type": "code",
   "execution_count": 4,
   "metadata": {},
   "outputs": [
    {
     "data": {
      "image/png": "[encoded data removed]",
      "text/plain": [
       "<Figure size 1080x576 with 1 Axes>"
      ]
     },
     "metadata": {},
     "output_type": "display_data"
    }
   ],
   "source": [
    "sns.scatterplot(x=student_data[\"X\"], y=student_data[\"Y\"]);"
   ]
  },
  {
   "cell_type": "markdown",
   "metadata": {},
   "source": [
    "Do you see a trend? Can you make any hypotheses about the relationship between age and number of tardies?"
   ]
  },
  {
   "cell_type": "markdown",
   "metadata": {},
   "source": [
    "###### Of course, it is possible to see a quite linear relationship between both parameters."
   ]
  },
  {
   "cell_type": "markdown",
   "metadata": {},
   "source": [
    "Calculate the covariance and correlation of the variables in your plot. What is the difference between these two measures? Compare their values. What do they tell you in this case? Add your responses as comments after your code."
   ]
  },
  {
   "cell_type": "code",
   "execution_count": 5,
   "metadata": {},
   "outputs": [
    {
     "name": "stdout",
     "output_type": "stream",
     "text": [
      "[[187.65555556 -45.56666667]\n",
      " [-45.56666667  12.54444444]]\n",
      "          X         Y\n",
      "X  1.000000 -0.939163\n",
      "Y -0.939163  1.000000\n"
     ]
    }
   ],
   "source": [
    "std_cov = np.cov(student_data['X'],student_data['Y'])\n",
    "std_corr = student_data.corr()\n",
    "print(std_cov)\n",
    "print(std_corr)"
   ]
  },
  {
   "cell_type": "markdown",
   "metadata": {},
   "source": [
    "###### So, the covariance indicates the direction of the relationship between the variables. It shows that they are strongly negative related, so that one decreases as the other increases. Besides it shows that the increment between the 'X' values is higher, which means that its slope is steeper.\n",
    "\n",
    "###### The correlation indicates both the direction and the strength, as well as being normalised between -1 and 1. As correlation is very close to -1, it shows that truly both variables have a strong negative relationship. "
   ]
  },
  {
   "cell_type": "markdown",
   "metadata": {},
   "source": [
    "Build a regression model for this data. What will be your outcome variable? What type of regression are you using? Add your responses as comments after your code."
   ]
  },
  {
   "cell_type": "code",
   "execution_count": 6,
   "metadata": {},
   "outputs": [],
   "source": [
    "lr = LinearRegression()\n",
    "lr.fit(\n",
    "    X = student_data[[\"X\"]],\n",
    "    y = student_data.Y\n",
    ")\n",
    "beta_1 = lr.coef_\n",
    "beta_0 = lr.intercept_"
   ]
  },
  {
   "cell_type": "code",
   "execution_count": 7,
   "metadata": {},
   "outputs": [],
   "source": [
    "student_data[\"Pre\"] = (student_data.X * lr.coef_) + lr.intercept_"
   ]
  },
  {
   "cell_type": "code",
   "execution_count": 8,
   "metadata": {},
   "outputs": [
    {
     "data": {
      "text/html": [
       "<div>\n",
       "<style scoped>\n",
       "    .dataframe tbody tr th:only-of-type {\n",
       "        vertical-align: middle;\n",
       "    }\n",
       "\n",
       "    .dataframe tbody tr th {\n",
       "        vertical-align: top;\n",
       "    }\n",
       "\n",
       "    .dataframe thead th {\n",
       "        text-align: right;\n",
       "    }\n",
       "</style>\n",
       "<table border=\"1\" class=\"dataframe\">\n",
       "  <thead>\n",
       "    <tr style=\"text-align: right;\">\n",
       "      <th></th>\n",
       "      <th>X</th>\n",
       "      <th>Y</th>\n",
       "      <th>Pre</th>\n",
       "    </tr>\n",
       "  </thead>\n",
       "  <tbody>\n",
       "    <tr>\n",
       "      <th>0</th>\n",
       "      <td>17</td>\n",
       "      <td>10</td>\n",
       "      <td>8.760850</td>\n",
       "    </tr>\n",
       "    <tr>\n",
       "      <th>1</th>\n",
       "      <td>51</td>\n",
       "      <td>1</td>\n",
       "      <td>0.504944</td>\n",
       "    </tr>\n",
       "    <tr>\n",
       "      <th>2</th>\n",
       "      <td>27</td>\n",
       "      <td>5</td>\n",
       "      <td>6.332643</td>\n",
       "    </tr>\n",
       "    <tr>\n",
       "      <th>3</th>\n",
       "      <td>21</td>\n",
       "      <td>9</td>\n",
       "      <td>7.789567</td>\n",
       "    </tr>\n",
       "    <tr>\n",
       "      <th>4</th>\n",
       "      <td>36</td>\n",
       "      <td>4</td>\n",
       "      <td>4.147256</td>\n",
       "    </tr>\n",
       "  </tbody>\n",
       "</table>\n",
       "</div>"
      ],
      "text/plain": [
       "    X   Y       Pre\n",
       "0  17  10  8.760850\n",
       "1  51   1  0.504944\n",
       "2  27   5  6.332643\n",
       "3  21   9  7.789567\n",
       "4  36   4  4.147256"
      ]
     },
     "execution_count": 8,
     "metadata": {},
     "output_type": "execute_result"
    }
   ],
   "source": [
    "student_data.head()"
   ]
  },
  {
   "cell_type": "markdown",
   "metadata": {},
   "source": [
    "###### I am using linear regression. My outcomes are the estimated values that 'y' will receive, for its corresponding value of 'x'. For reaching this point it was necessary to estimate the values of the slope and the intercept."
   ]
  },
  {
   "cell_type": "markdown",
   "metadata": {},
   "source": [
    "Plot your regression model on your scatter plot."
   ]
  },
  {
   "cell_type": "code",
   "execution_count": 9,
   "metadata": {},
   "outputs": [
    {
     "data": {
      "image/png": "[encoded data removed]",
      "text/plain": [
       "<Figure size 1080x576 with 1 Axes>"
      ]
     },
     "metadata": {},
     "output_type": "display_data"
    }
   ],
   "source": [
    "sns.regplot(x=student_data[\"X\"], y=student_data[\"Y\"], data=student_data);"
   ]
  },
  {
   "cell_type": "markdown",
   "metadata": {},
   "source": [
    "Interpret the results of your model. What can conclusions can you draw from your model and how confident in these conclusions are you? Can we say that age is a good predictor of tardiness? Add your responses as comments after your code."
   ]
  },
  {
   "cell_type": "code",
   "execution_count": 10,
   "metadata": {},
   "outputs": [],
   "source": [
    "student_data[\"mean\"] = student_data.Y.mean()"
   ]
  },
  {
   "cell_type": "code",
   "execution_count": 11,
   "metadata": {},
   "outputs": [],
   "source": [
    "std_data_TSS = ((student_data['Y'] - student_data['mean']) ** 2).sum()"
   ]
  },
  {
   "cell_type": "code",
   "execution_count": 12,
   "metadata": {},
   "outputs": [
    {
     "data": {
      "text/plain": [
       "112.9"
      ]
     },
     "execution_count": 12,
     "metadata": {},
     "output_type": "execute_result"
    }
   ],
   "source": [
    "std_data_TSS # The total squared sum is not very high, so preliminarly the model is not bad"
   ]
  },
  {
   "cell_type": "code",
   "execution_count": 13,
   "metadata": {},
   "outputs": [],
   "source": [
    "std_data_RSS = ((student_data['Y'] - student_data[\"Pre\"]) ** 2).sum()"
   ]
  },
  {
   "cell_type": "code",
   "execution_count": 14,
   "metadata": {},
   "outputs": [
    {
     "data": {
      "text/plain": [
       "13.319201847356268"
      ]
     },
     "execution_count": 14,
     "metadata": {},
     "output_type": "execute_result"
    }
   ],
   "source": [
    "std_data_RSS # This parameter is neither high, which is good"
   ]
  },
  {
   "cell_type": "code",
   "execution_count": 15,
   "metadata": {},
   "outputs": [],
   "source": [
    "r2 = 1 - (std_data_RSS/std_data_TSS)"
   ]
  },
  {
   "cell_type": "code",
   "execution_count": 58,
   "metadata": {},
   "outputs": [
    {
     "data": {
      "text/plain": [
       "0.8820265558250109"
      ]
     },
     "execution_count": 58,
     "metadata": {},
     "output_type": "execute_result"
    }
   ],
   "source": [
    "r2 # As R^2 is very close to 1, the model is therefore of a very good quality"
   ]
  },
  {
   "cell_type": "markdown",
   "metadata": {},
   "source": [
    "## Challenge 2\n",
    "For the second part of this lab, we will use the vehicles.csv data set. You can find a copy of the dataset in the git hub folder. This dataset includes variables related to vehicle characteristics, including the model, make, and energy efficiency standards, as well as each car's CO2 emissions. As discussed in class the goal of this exercise is to predict vehicles' CO2 emissions based on several independent variables. "
   ]
  },
  {
   "cell_type": "code",
   "execution_count": 16,
   "metadata": {},
   "outputs": [],
   "source": [
    "df = pd.read_csv('vehicles.csv') "
   ]
  },
  {
   "cell_type": "code",
   "execution_count": 17,
   "metadata": {},
   "outputs": [],
   "source": [
    "df.rename(columns={'Fuel Barrels/Year':'BarrelsYear', 'Combined MPG':'MPG','CO2 Emission Grams/Mile':'CO2','Fuel Cost/Year':'FuelCost'}, inplace=True)"
   ]
  },
  {
   "cell_type": "code",
   "execution_count": 18,
   "metadata": {},
   "outputs": [],
   "source": [
    "df.drop(['Make', 'Model', 'Engine Displacement', 'Transmission', 'Drivetrain', 'Vehicle Class', 'Fuel Type', 'City MPG', 'Highway MPG'], axis=1, inplace=True)"
   ]
  },
  {
   "cell_type": "markdown",
   "metadata": {},
   "source": [
    "Let's use the following variables for our analysis: Year, Cylinders, Fuel Barrels/Year, Combined MPG, and Fuel Cost/Year. We will use 'CO2 Emission Grams/Mile' as our outcome variable. \n",
    "\n",
    "Calculate the correlations between each of these variables and the outcome. Which variable do you think will be the most important in determining CO2 emissions? Which provides the least amount of helpful information for determining CO2 emissions? Add your responses as comments after your code."
   ]
  },
  {
   "cell_type": "code",
   "execution_count": 19,
   "metadata": {},
   "outputs": [
    {
     "data": {
      "text/html": [
       "<div>\n",
       "<style scoped>\n",
       "    .dataframe tbody tr th:only-of-type {\n",
       "        vertical-align: middle;\n",
       "    }\n",
       "\n",
       "    .dataframe tbody tr th {\n",
       "        vertical-align: top;\n",
       "    }\n",
       "\n",
       "    .dataframe thead th {\n",
       "        text-align: right;\n",
       "    }\n",
       "</style>\n",
       "<table border=\"1\" class=\"dataframe\">\n",
       "  <thead>\n",
       "    <tr style=\"text-align: right;\">\n",
       "      <th></th>\n",
       "      <th>Year</th>\n",
       "      <th>Cylinders</th>\n",
       "      <th>BarrelsYear</th>\n",
       "      <th>MPG</th>\n",
       "      <th>CO2</th>\n",
       "      <th>FuelCost</th>\n",
       "    </tr>\n",
       "  </thead>\n",
       "  <tbody>\n",
       "    <tr>\n",
       "      <th>Year</th>\n",
       "      <td>1.000000</td>\n",
       "      <td>0.082469</td>\n",
       "      <td>-0.221084</td>\n",
       "      <td>0.204751</td>\n",
       "      <td>-0.222300</td>\n",
       "      <td>-0.091913</td>\n",
       "    </tr>\n",
       "    <tr>\n",
       "      <th>Cylinders</th>\n",
       "      <td>0.082469</td>\n",
       "      <td>1.000000</td>\n",
       "      <td>0.739517</td>\n",
       "      <td>-0.698648</td>\n",
       "      <td>0.752393</td>\n",
       "      <td>0.778153</td>\n",
       "    </tr>\n",
       "    <tr>\n",
       "      <th>BarrelsYear</th>\n",
       "      <td>-0.221084</td>\n",
       "      <td>0.739517</td>\n",
       "      <td>1.000000</td>\n",
       "      <td>-0.909743</td>\n",
       "      <td>0.986189</td>\n",
       "      <td>0.916208</td>\n",
       "    </tr>\n",
       "    <tr>\n",
       "      <th>MPG</th>\n",
       "      <td>0.204751</td>\n",
       "      <td>-0.698648</td>\n",
       "      <td>-0.909743</td>\n",
       "      <td>1.000000</td>\n",
       "      <td>-0.926229</td>\n",
       "      <td>-0.875185</td>\n",
       "    </tr>\n",
       "    <tr>\n",
       "      <th>CO2</th>\n",
       "      <td>-0.222300</td>\n",
       "      <td>0.752393</td>\n",
       "      <td>0.986189</td>\n",
       "      <td>-0.926229</td>\n",
       "      <td>1.000000</td>\n",
       "      <td>0.930865</td>\n",
       "    </tr>\n",
       "    <tr>\n",
       "      <th>FuelCost</th>\n",
       "      <td>-0.091913</td>\n",
       "      <td>0.778153</td>\n",
       "      <td>0.916208</td>\n",
       "      <td>-0.875185</td>\n",
       "      <td>0.930865</td>\n",
       "      <td>1.000000</td>\n",
       "    </tr>\n",
       "  </tbody>\n",
       "</table>\n",
       "</div>"
      ],
      "text/plain": [
       "                 Year  Cylinders  BarrelsYear       MPG       CO2  FuelCost\n",
       "Year         1.000000   0.082469    -0.221084  0.204751 -0.222300 -0.091913\n",
       "Cylinders    0.082469   1.000000     0.739517 -0.698648  0.752393  0.778153\n",
       "BarrelsYear -0.221084   0.739517     1.000000 -0.909743  0.986189  0.916208\n",
       "MPG          0.204751  -0.698648    -0.909743  1.000000 -0.926229 -0.875185\n",
       "CO2         -0.222300   0.752393     0.986189 -0.926229  1.000000  0.930865\n",
       "FuelCost    -0.091913   0.778153     0.916208 -0.875185  0.930865  1.000000"
      ]
     },
     "execution_count": 19,
     "metadata": {},
     "output_type": "execute_result"
    }
   ],
   "source": [
    "df.corr()"
   ]
  },
  {
   "cell_type": "markdown",
   "metadata": {},
   "source": [
    "###### Well the parameter with the highest impact is the number of  'Fuel Barrels/Year', with a very high correlation, but followed closely by many of the other parameters. The least relevant variable is the year. This may make sense as even having a diesel sportscar made in the year 2021 it would polute more than a gasoline one made 10 years ago. Following this line, parameters as the engine or the cylinders have much higher weight."
   ]
  },
  {
   "cell_type": "markdown",
   "metadata": {},
   "source": [
    "Build a regression model for this data. What type of regression are you using? Add your responses as comments after your code."
   ]
  },
  {
   "cell_type": "code",
   "execution_count": 20,
   "metadata": {},
   "outputs": [],
   "source": [
    "results = smf.ols(\"CO2 ~ Year * Cylinders * BarrelsYear * MPG * FuelCost\", data = df).fit() # This is a multivariant model"
   ]
  },
  {
   "cell_type": "code",
   "execution_count": 21,
   "metadata": {},
   "outputs": [
    {
     "data": {
      "text/html": [
       "<table class=\"simpletable\">\n",
       "<caption>OLS Regression Results</caption>\n",
       "<tr>\n",
       "  <th>Dep. Variable:</th>           <td>CO2</td>       <th>  R-squared:         </th>  <td>   0.996</td>  \n",
       "</tr>\n",
       "<tr>\n",
       "  <th>Model:</th>                   <td>OLS</td>       <th>  Adj. R-squared:    </th>  <td>   0.996</td>  \n",
       "</tr>\n",
       "<tr>\n",
       "  <th>Method:</th>             <td>Least Squares</td>  <th>  F-statistic:       </th>  <td>3.406e+05</td> \n",
       "</tr>\n",
       "<tr>\n",
       "  <th>Date:</th>             <td>Tue, 23 Nov 2021</td> <th>  Prob (F-statistic):</th>   <td>  0.00</td>   \n",
       "</tr>\n",
       "<tr>\n",
       "  <th>Time:</th>                 <td>23:11:10</td>     <th>  Log-Likelihood:    </th> <td>-1.2121e+05</td>\n",
       "</tr>\n",
       "<tr>\n",
       "  <th>No. Observations:</th>      <td> 35952</td>      <th>  AIC:               </th>  <td>2.425e+05</td> \n",
       "</tr>\n",
       "<tr>\n",
       "  <th>Df Residuals:</th>          <td> 35921</td>      <th>  BIC:               </th>  <td>2.428e+05</td> \n",
       "</tr>\n",
       "<tr>\n",
       "  <th>Df Model:</th>              <td>    30</td>      <th>                     </th>      <td> </td>     \n",
       "</tr>\n",
       "<tr>\n",
       "  <th>Covariance Type:</th>      <td>nonrobust</td>    <th>                     </th>      <td> </td>     \n",
       "</tr>\n",
       "</table>\n",
       "<table class=\"simpletable\">\n",
       "<tr>\n",
       "                     <td></td>                        <th>coef</th>     <th>std err</th>      <th>t</th>      <th>P>|t|</th>  <th>[0.025</th>    <th>0.975]</th>  \n",
       "</tr>\n",
       "<tr>\n",
       "  <th>Intercept</th>                               <td>-4.786e+04</td> <td> 3244.389</td> <td>  -14.752</td> <td> 0.000</td> <td>-5.42e+04</td> <td>-4.15e+04</td>\n",
       "</tr>\n",
       "<tr>\n",
       "  <th>Year</th>                                    <td>   24.1647</td> <td>    1.618</td> <td>   14.936</td> <td> 0.000</td> <td>   20.993</td> <td>   27.336</td>\n",
       "</tr>\n",
       "<tr>\n",
       "  <th>Cylinders</th>                               <td> 7563.0125</td> <td>  589.432</td> <td>   12.831</td> <td> 0.000</td> <td> 6407.708</td> <td> 8718.317</td>\n",
       "</tr>\n",
       "<tr>\n",
       "  <th>Year:Cylinders</th>                          <td>   -3.8099</td> <td>    0.294</td> <td>  -12.950</td> <td> 0.000</td> <td>   -4.386</td> <td>   -3.233</td>\n",
       "</tr>\n",
       "<tr>\n",
       "  <th>BarrelsYear</th>                             <td> 1862.8545</td> <td>   92.995</td> <td>   20.032</td> <td> 0.000</td> <td> 1680.582</td> <td> 2045.127</td>\n",
       "</tr>\n",
       "<tr>\n",
       "  <th>Year:BarrelsYear</th>                        <td>   -0.9215</td> <td>    0.046</td> <td>  -19.850</td> <td> 0.000</td> <td>   -1.012</td> <td>   -0.830</td>\n",
       "</tr>\n",
       "<tr>\n",
       "  <th>Cylinders:BarrelsYear</th>                   <td> -276.4608</td> <td>   13.899</td> <td>  -19.890</td> <td> 0.000</td> <td> -303.704</td> <td> -249.218</td>\n",
       "</tr>\n",
       "<tr>\n",
       "  <th>Year:Cylinders:BarrelsYear</th>              <td>    0.1380</td> <td>    0.007</td> <td>   19.882</td> <td> 0.000</td> <td>    0.124</td> <td>    0.152</td>\n",
       "</tr>\n",
       "<tr>\n",
       "  <th>MPG</th>                                     <td>  197.6173</td> <td>   29.458</td> <td>    6.708</td> <td> 0.000</td> <td>  139.878</td> <td>  255.357</td>\n",
       "</tr>\n",
       "<tr>\n",
       "  <th>Year:MPG</th>                                <td>   -0.0993</td> <td>    0.015</td> <td>   -6.733</td> <td> 0.000</td> <td>   -0.128</td> <td>   -0.070</td>\n",
       "</tr>\n",
       "<tr>\n",
       "  <th>Cylinders:MPG</th>                           <td>  -39.4443</td> <td>    7.484</td> <td>   -5.270</td> <td> 0.000</td> <td>  -54.114</td> <td>  -24.775</td>\n",
       "</tr>\n",
       "<tr>\n",
       "  <th>Year:Cylinders:MPG</th>                      <td>    0.0197</td> <td>    0.004</td> <td>    5.269</td> <td> 0.000</td> <td>    0.012</td> <td>    0.027</td>\n",
       "</tr>\n",
       "<tr>\n",
       "  <th>BarrelsYear:MPG</th>                         <td>   42.6883</td> <td>    8.518</td> <td>    5.011</td> <td> 0.000</td> <td>   25.992</td> <td>   59.384</td>\n",
       "</tr>\n",
       "<tr>\n",
       "  <th>Year:BarrelsYear:MPG</th>                    <td>   -0.0220</td> <td>    0.004</td> <td>   -5.182</td> <td> 0.000</td> <td>   -0.030</td> <td>   -0.014</td>\n",
       "</tr>\n",
       "<tr>\n",
       "  <th>Cylinders:BarrelsYear:MPG</th>               <td>   -6.2065</td> <td>    1.511</td> <td>   -4.109</td> <td> 0.000</td> <td>   -9.167</td> <td>   -3.246</td>\n",
       "</tr>\n",
       "<tr>\n",
       "  <th>Year:Cylinders:BarrelsYear:MPG</th>          <td>    0.0032</td> <td>    0.001</td> <td>    4.283</td> <td> 0.000</td> <td>    0.002</td> <td>    0.005</td>\n",
       "</tr>\n",
       "<tr>\n",
       "  <th>FuelCost</th>                                <td>   38.0231</td> <td>    2.079</td> <td>   18.290</td> <td> 0.000</td> <td>   33.948</td> <td>   42.098</td>\n",
       "</tr>\n",
       "<tr>\n",
       "  <th>Year:FuelCost</th>                           <td>   -0.0191</td> <td>    0.001</td> <td>  -18.459</td> <td> 0.000</td> <td>   -0.021</td> <td>   -0.017</td>\n",
       "</tr>\n",
       "<tr>\n",
       "  <th>Cylinders:FuelCost</th>                      <td>   -6.7490</td> <td>    0.307</td> <td>  -22.017</td> <td> 0.000</td> <td>   -7.350</td> <td>   -6.148</td>\n",
       "</tr>\n",
       "<tr>\n",
       "  <th>Year:Cylinders:FuelCost</th>                 <td>    0.0034</td> <td>    0.000</td> <td>   22.278</td> <td> 0.000</td> <td>    0.003</td> <td>    0.004</td>\n",
       "</tr>\n",
       "<tr>\n",
       "  <th>BarrelsYear:FuelCost</th>                    <td>    0.0995</td> <td>    0.017</td> <td>    5.964</td> <td> 0.000</td> <td>    0.067</td> <td>    0.132</td>\n",
       "</tr>\n",
       "<tr>\n",
       "  <th>Year:BarrelsYear:FuelCost</th>               <td>-4.914e-05</td> <td> 8.34e-06</td> <td>   -5.892</td> <td> 0.000</td> <td>-6.55e-05</td> <td>-3.28e-05</td>\n",
       "</tr>\n",
       "<tr>\n",
       "  <th>Cylinders:BarrelsYear:FuelCost</th>          <td>   -0.0034</td> <td>    0.002</td> <td>   -1.614</td> <td> 0.107</td> <td>   -0.008</td> <td>    0.001</td>\n",
       "</tr>\n",
       "<tr>\n",
       "  <th>Year:Cylinders:BarrelsYear:FuelCost</th>     <td> 1.646e-06</td> <td> 1.07e-06</td> <td>    1.540</td> <td> 0.124</td> <td> -4.5e-07</td> <td> 3.74e-06</td>\n",
       "</tr>\n",
       "<tr>\n",
       "  <th>MPG:FuelCost</th>                            <td>    0.7868</td> <td>    0.051</td> <td>   15.569</td> <td> 0.000</td> <td>    0.688</td> <td>    0.886</td>\n",
       "</tr>\n",
       "<tr>\n",
       "  <th>Year:MPG:FuelCost</th>                       <td>   -0.0004</td> <td> 2.52e-05</td> <td>  -15.589</td> <td> 0.000</td> <td>   -0.000</td> <td>   -0.000</td>\n",
       "</tr>\n",
       "<tr>\n",
       "  <th>Cylinders:MPG:FuelCost</th>                  <td>   -0.1119</td> <td>    0.008</td> <td>  -13.686</td> <td> 0.000</td> <td>   -0.128</td> <td>   -0.096</td>\n",
       "</tr>\n",
       "<tr>\n",
       "  <th>Year:Cylinders:MPG:FuelCost</th>             <td> 5.552e-05</td> <td> 4.08e-06</td> <td>   13.607</td> <td> 0.000</td> <td> 4.75e-05</td> <td> 6.35e-05</td>\n",
       "</tr>\n",
       "<tr>\n",
       "  <th>BarrelsYear:MPG:FuelCost</th>                <td>   -0.1686</td> <td>    0.007</td> <td>  -25.487</td> <td> 0.000</td> <td>   -0.182</td> <td>   -0.156</td>\n",
       "</tr>\n",
       "<tr>\n",
       "  <th>Year:BarrelsYear:MPG:FuelCost</th>           <td> 8.465e-05</td> <td>  3.3e-06</td> <td>   25.675</td> <td> 0.000</td> <td> 7.82e-05</td> <td> 9.11e-05</td>\n",
       "</tr>\n",
       "<tr>\n",
       "  <th>Cylinders:BarrelsYear:MPG:FuelCost</th>      <td>    0.0271</td> <td>    0.001</td> <td>   27.269</td> <td> 0.000</td> <td>    0.025</td> <td>    0.029</td>\n",
       "</tr>\n",
       "<tr>\n",
       "  <th>Year:Cylinders:BarrelsYear:MPG:FuelCost</th> <td>-1.365e-05</td> <td> 4.97e-07</td> <td>  -27.491</td> <td> 0.000</td> <td>-1.46e-05</td> <td>-1.27e-05</td>\n",
       "</tr>\n",
       "</table>\n",
       "<table class=\"simpletable\">\n",
       "<tr>\n",
       "  <th>Omnibus:</th>       <td>40378.530</td> <th>  Durbin-Watson:     </th>   <td>   1.105</td>  \n",
       "</tr>\n",
       "<tr>\n",
       "  <th>Prob(Omnibus):</th>  <td> 0.000</td>   <th>  Jarque-Bera (JB):  </th> <td>26341464.888</td>\n",
       "</tr>\n",
       "<tr>\n",
       "  <th>Skew:</th>           <td> 5.092</td>   <th>  Prob(JB):          </th>   <td>    0.00</td>  \n",
       "</tr>\n",
       "<tr>\n",
       "  <th>Kurtosis:</th>       <td>135.215</td>  <th>  Cond. No.          </th>   <td>7.90e+14</td>  \n",
       "</tr>\n",
       "</table><br/><br/>Notes:<br/>[1] Standard Errors assume that the covariance matrix of the errors is correctly specified.<br/>[2] The condition number is large, 7.9e+14. This might indicate that there are<br/>strong multicollinearity or other numerical problems."
      ],
      "text/plain": [
       "<class 'statsmodels.iolib.summary.Summary'>\n",
       "\"\"\"\n",
       "                            OLS Regression Results                            \n",
       "==============================================================================\n",
       "Dep. Variable:                    CO2   R-squared:                       0.996\n",
       "Model:                            OLS   Adj. R-squared:                  0.996\n",
       "Method:                 Least Squares   F-statistic:                 3.406e+05\n",
       "Date:                Tue, 23 Nov 2021   Prob (F-statistic):               0.00\n",
       "Time:                        23:11:10   Log-Likelihood:            -1.2121e+05\n",
       "No. Observations:               35952   AIC:                         2.425e+05\n",
       "Df Residuals:                   35921   BIC:                         2.428e+05\n",
       "Df Model:                          30                                         \n",
       "Covariance Type:            nonrobust                                         \n",
       "===========================================================================================================\n",
       "                                              coef    std err          t      P>|t|      [0.025      0.975]\n",
       "-----------------------------------------------------------------------------------------------------------\n",
       "Intercept                               -4.786e+04   3244.389    -14.752      0.000   -5.42e+04   -4.15e+04\n",
       "Year                                       24.1647      1.618     14.936      0.000      20.993      27.336\n",
       "Cylinders                                7563.0125    589.432     12.831      0.000    6407.708    8718.317\n",
       "Year:Cylinders                             -3.8099      0.294    -12.950      0.000      -4.386      -3.233\n",
       "BarrelsYear                              1862.8545     92.995     20.032      0.000    1680.582    2045.127\n",
       "Year:BarrelsYear                           -0.9215      0.046    -19.850      0.000      -1.012      -0.830\n",
       "Cylinders:BarrelsYear                    -276.4608     13.899    -19.890      0.000    -303.704    -249.218\n",
       "Year:Cylinders:BarrelsYear                  0.1380      0.007     19.882      0.000       0.124       0.152\n",
       "MPG                                       197.6173     29.458      6.708      0.000     139.878     255.357\n",
       "Year:MPG                                   -0.0993      0.015     -6.733      0.000      -0.128      -0.070\n",
       "Cylinders:MPG                             -39.4443      7.484     -5.270      0.000     -54.114     -24.775\n",
       "Year:Cylinders:MPG                          0.0197      0.004      5.269      0.000       0.012       0.027\n",
       "BarrelsYear:MPG                            42.6883      8.518      5.011      0.000      25.992      59.384\n",
       "Year:BarrelsYear:MPG                       -0.0220      0.004     -5.182      0.000      -0.030      -0.014\n",
       "Cylinders:BarrelsYear:MPG                  -6.2065      1.511     -4.109      0.000      -9.167      -3.246\n",
       "Year:Cylinders:BarrelsYear:MPG              0.0032      0.001      4.283      0.000       0.002       0.005\n",
       "FuelCost                                   38.0231      2.079     18.290      0.000      33.948      42.098\n",
       "Year:FuelCost                              -0.0191      0.001    -18.459      0.000      -0.021      -0.017\n",
       "Cylinders:FuelCost                         -6.7490      0.307    -22.017      0.000      -7.350      -6.148\n",
       "Year:Cylinders:FuelCost                     0.0034      0.000     22.278      0.000       0.003       0.004\n",
       "BarrelsYear:FuelCost                        0.0995      0.017      5.964      0.000       0.067       0.132\n",
       "Year:BarrelsYear:FuelCost               -4.914e-05   8.34e-06     -5.892      0.000   -6.55e-05   -3.28e-05\n",
       "Cylinders:BarrelsYear:FuelCost             -0.0034      0.002     -1.614      0.107      -0.008       0.001\n",
       "Year:Cylinders:BarrelsYear:FuelCost      1.646e-06   1.07e-06      1.540      0.124    -4.5e-07    3.74e-06\n",
       "MPG:FuelCost                                0.7868      0.051     15.569      0.000       0.688       0.886\n",
       "Year:MPG:FuelCost                          -0.0004   2.52e-05    -15.589      0.000      -0.000      -0.000\n",
       "Cylinders:MPG:FuelCost                     -0.1119      0.008    -13.686      0.000      -0.128      -0.096\n",
       "Year:Cylinders:MPG:FuelCost              5.552e-05   4.08e-06     13.607      0.000    4.75e-05    6.35e-05\n",
       "BarrelsYear:MPG:FuelCost                   -0.1686      0.007    -25.487      0.000      -0.182      -0.156\n",
       "Year:BarrelsYear:MPG:FuelCost            8.465e-05    3.3e-06     25.675      0.000    7.82e-05    9.11e-05\n",
       "Cylinders:BarrelsYear:MPG:FuelCost          0.0271      0.001     27.269      0.000       0.025       0.029\n",
       "Year:Cylinders:BarrelsYear:MPG:FuelCost -1.365e-05   4.97e-07    -27.491      0.000   -1.46e-05   -1.27e-05\n",
       "==============================================================================\n",
       "Omnibus:                    40378.530   Durbin-Watson:                   1.105\n",
       "Prob(Omnibus):                  0.000   Jarque-Bera (JB):         26341464.888\n",
       "Skew:                           5.092   Prob(JB):                         0.00\n",
       "Kurtosis:                     135.215   Cond. No.                     7.90e+14\n",
       "==============================================================================\n",
       "\n",
       "Notes:\n",
       "[1] Standard Errors assume that the covariance matrix of the errors is correctly specified.\n",
       "[2] The condition number is large, 7.9e+14. This might indicate that there are\n",
       "strong multicollinearity or other numerical problems.\n",
       "\"\"\""
      ]
     },
     "execution_count": 21,
     "metadata": {},
     "output_type": "execute_result"
    }
   ],
   "source": [
    "results.summary() \n",
    "# Shows the relation between the parameter we want to evaluate and the other variables, to see how they affect it.\n",
    "# When multiplying all the factors, the R-squared is much bigger than when only trying adding."
   ]
  },
  {
   "cell_type": "markdown",
   "metadata": {},
   "source": [
    "Print your regression summary, and interpret the results. What are the most important varibles in your model and why? What can conclusions can you draw from your model and how confident in these conclusions are you? Add your responses as comments after your code."
   ]
  },
  {
   "cell_type": "markdown",
   "metadata": {},
   "source": [
    "###### So, checking principaly the values of 'coef' and P>(t), it shows that the Cylinders is the most affected variable by the variations of the analysed parameter. As for the P(t), it's also true that the parameters combination that include the variable 'year' are the less aligned."
   ]
  },
  {
   "cell_type": "markdown",
   "metadata": {},
   "source": [
    "## Bonus Challenge: Error Analysis"
   ]
  },
  {
   "cell_type": "markdown",
   "metadata": {},
   "source": [
    "I am suspicious about the last few parties I have thrown: it seems that the more people I invite the more people are unable to attend. To know if my hunch is supported by data, I have decided to do an analysis. I have collected my data in the table below, where X is the number of people I invited, and Y is the number of people who attended. \n",
    "\n",
    "|  X |  Y |\n",
    "|----|----|\n",
    "| 1  |  1 |\n",
    "| 3  |  2 |\n",
    "| 4  |  4 |\n",
    "| 6  |  4 |\n",
    "| 8  |  5 |\n",
    "| 9  |  7 |\n",
    "| 11 |  8 |\n",
    "| 14 |  13 |"
   ]
  },
  {
   "cell_type": "markdown",
   "metadata": {},
   "source": [
    "We want to know if the relationship modeled by the two random variables is linear or not, and therefore if it is appropriate to model it with a linear regression. \n",
    "First, build a dataframe with the data. "
   ]
  },
  {
   "cell_type": "code",
   "execution_count": 22,
   "metadata": {},
   "outputs": [],
   "source": [
    "data = pd.DataFrame({'X': [1,3,4,6,8,9,11,14], 'Y': [1,2,4,4,5,7,8,13]})"
   ]
  },
  {
   "cell_type": "markdown",
   "metadata": {},
   "source": [
    "Draw a dispersion diagram (scatter plot) for the data, and fit a regression line."
   ]
  },
  {
   "cell_type": "code",
   "execution_count": 23,
   "metadata": {},
   "outputs": [
    {
     "data": {
      "image/png": "[encoded data removed]",
      "text/plain": [
       "<Figure size 1080x576 with 1 Axes>"
      ]
     },
     "metadata": {},
     "output_type": "display_data"
    }
   ],
   "source": [
    "sns.regplot(x=data[\"X\"], y=data[\"Y\"], data=data);"
   ]
  },
  {
   "cell_type": "markdown",
   "metadata": {},
   "source": [
    "What do you see? What does this plot tell you about the likely relationship between the variables? Print the results from your regression."
   ]
  },
  {
   "cell_type": "code",
   "execution_count": 30,
   "metadata": {},
   "outputs": [
    {
     "data": {
      "text/html": [
       "<div>\n",
       "<style scoped>\n",
       "    .dataframe tbody tr th:only-of-type {\n",
       "        vertical-align: middle;\n",
       "    }\n",
       "\n",
       "    .dataframe tbody tr th {\n",
       "        vertical-align: top;\n",
       "    }\n",
       "\n",
       "    .dataframe thead th {\n",
       "        text-align: right;\n",
       "    }\n",
       "</style>\n",
       "<table border=\"1\" class=\"dataframe\">\n",
       "  <thead>\n",
       "    <tr style=\"text-align: right;\">\n",
       "      <th></th>\n",
       "      <th>X</th>\n",
       "      <th>Y</th>\n",
       "      <th>Pre</th>\n",
       "    </tr>\n",
       "  </thead>\n",
       "  <tbody>\n",
       "    <tr>\n",
       "      <th>0</th>\n",
       "      <td>1</td>\n",
       "      <td>1</td>\n",
       "      <td>0.409091</td>\n",
       "    </tr>\n",
       "    <tr>\n",
       "      <th>1</th>\n",
       "      <td>3</td>\n",
       "      <td>2</td>\n",
       "      <td>2.106061</td>\n",
       "    </tr>\n",
       "    <tr>\n",
       "      <th>2</th>\n",
       "      <td>4</td>\n",
       "      <td>4</td>\n",
       "      <td>2.954545</td>\n",
       "    </tr>\n",
       "    <tr>\n",
       "      <th>3</th>\n",
       "      <td>6</td>\n",
       "      <td>4</td>\n",
       "      <td>4.651515</td>\n",
       "    </tr>\n",
       "    <tr>\n",
       "      <th>4</th>\n",
       "      <td>8</td>\n",
       "      <td>5</td>\n",
       "      <td>6.348485</td>\n",
       "    </tr>\n",
       "    <tr>\n",
       "      <th>5</th>\n",
       "      <td>9</td>\n",
       "      <td>7</td>\n",
       "      <td>7.196970</td>\n",
       "    </tr>\n",
       "    <tr>\n",
       "      <th>6</th>\n",
       "      <td>11</td>\n",
       "      <td>8</td>\n",
       "      <td>8.893939</td>\n",
       "    </tr>\n",
       "    <tr>\n",
       "      <th>7</th>\n",
       "      <td>14</td>\n",
       "      <td>13</td>\n",
       "      <td>11.439394</td>\n",
       "    </tr>\n",
       "  </tbody>\n",
       "</table>\n",
       "</div>"
      ],
      "text/plain": [
       "    X   Y        Pre\n",
       "0   1   1   0.409091\n",
       "1   3   2   2.106061\n",
       "2   4   4   2.954545\n",
       "3   6   4   4.651515\n",
       "4   8   5   6.348485\n",
       "5   9   7   7.196970\n",
       "6  11   8   8.893939\n",
       "7  14  13  11.439394"
      ]
     },
     "execution_count": 30,
     "metadata": {},
     "output_type": "execute_result"
    }
   ],
   "source": [
    "lr = LinearRegression()\n",
    "lr.fit(\n",
    "    X = data[[\"X\"]],\n",
    "    y = data.Y\n",
    ")\n",
    "beta_1 = lr.coef_\n",
    "beta_0 = lr.intercept_\n",
    "data[\"Pre\"] = (data.X * lr.coef_) + lr.intercept_\n",
    "data.head(10)"
   ]
  },
  {
   "cell_type": "code",
   "execution_count": 32,
   "metadata": {},
   "outputs": [
    {
     "data": {
      "text/plain": [
       "0    0.590909\n",
       "1    0.106061\n",
       "2    1.045455\n",
       "3    0.651515\n",
       "4    1.348485\n",
       "5    0.196970\n",
       "6    0.893939\n",
       "7    1.560606\n",
       "Name: Diff, dtype: float64"
      ]
     },
     "execution_count": 32,
     "metadata": {},
     "output_type": "execute_result"
    }
   ],
   "source": [
    "data['Diff'] = abs(data['Y'] - data['Pre'])\n",
    "data['Diff'].head(10)\n",
    "# The model shows that as more people is invited less people is actually comming. However it not follows a perfect \n",
    "# linear relationship because there are at least three outliers."
   ]
  },
  {
   "cell_type": "code",
   "execution_count": 33,
   "metadata": {},
   "outputs": [
    {
     "data": {
      "image/png": "[encoded data removed]",
      "text/plain": [
       "<Figure size 1080x576 with 1 Axes>"
      ]
     },
     "metadata": {},
     "output_type": "display_data"
    }
   ],
   "source": [
    "sns.regplot(x=data[\"X\"], y=data[\"Pre\"], data=data);"
   ]
  },
  {
   "cell_type": "code",
   "execution_count": 37,
   "metadata": {},
   "outputs": [
    {
     "name": "stdout",
     "output_type": "stream",
     "text": [
      "             X         Y       Pre      Diff\n",
      "X     1.000000  0.965230  1.000000  0.541592\n",
      "Y     0.965230  1.000000  0.965230  0.579804\n",
      "Pre   1.000000  0.965230  1.000000  0.541592\n",
      "Diff  0.541592  0.579804  0.541592  1.000000\n"
     ]
    }
   ],
   "source": [
    "data_corr = data.corr()\n",
    "print(data_corr)"
   ]
  },
  {
   "cell_type": "markdown",
   "metadata": {},
   "source": [
    "Do you see any problematic points, or outliers, in your data? Remove these points and recalculate your regression. Print the new dispersion diagram with your new model and the results of your model. "
   ]
  },
  {
   "cell_type": "code",
   "execution_count": 36,
   "metadata": {},
   "outputs": [
    {
     "data": {
      "image/png": "[encoded data removed]",
      "text/plain": [
       "<Figure size 1080x576 with 1 Axes>"
      ]
     },
     "metadata": {},
     "output_type": "display_data"
    }
   ],
   "source": [
    "# Yes, the outliers would be the points where the difference is higher than 1.0, as the average is under that value.\n",
    "data2 = pd.DataFrame({'X': [1,3,6,9,11], 'Y': [1,2,4,7,8]})\n",
    "sns.regplot(x=data2[\"X\"], y=data2[\"Y\"], data=data2);"
   ]
  },
  {
   "cell_type": "markdown",
   "metadata": {},
   "source": [
    "What changed? Based on the results of the two models and your graphs, what can you say about the form of the data with the problematic point and without it?"
   ]
  },
  {
   "cell_type": "code",
   "execution_count": 39,
   "metadata": {},
   "outputs": [
    {
     "name": "stdout",
     "output_type": "stream",
     "text": [
      "          X         Y\n",
      "X  1.000000  0.994132\n",
      "Y  0.994132  1.000000\n"
     ]
    }
   ],
   "source": [
    "data2_corr = data2.corr()\n",
    "print(data2_corr) # We can see that by removing the outliers the relation between X and Y is much linear than before."
   ]
  }
 ],
 "metadata": {
  "kernelspec": {
   "display_name": "ironhack",
   "language": "python",
   "name": "ironhack"
  },
  "language_info": {
   "codemirror_mode": {
    "name": "ipython",
    "version": 3
   },
   "file_extension": ".py",
   "mimetype": "text/x-python",
   "name": "python",
   "nbconvert_exporter": "python",
   "pygments_lexer": "ipython3",
   "version": "3.8.8"
  }
 },
 "nbformat": 4,
 "nbformat_minor": 2
}
